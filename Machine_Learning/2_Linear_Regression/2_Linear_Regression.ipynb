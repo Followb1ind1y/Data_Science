{
 "cells": [
  {
   "cell_type": "markdown",
   "metadata": {},
   "source": [
    "# <div align=\"right\">Machine Learning\n",
    "##### <div align=\"right\"> *Followblindly*"
   ]
  },
  {
   "cell_type": "markdown",
   "metadata": {},
   "source": [
    "# 2 - Linear Regression"
   ]
  },
  {
   "cell_type": "markdown",
   "metadata": {},
   "source": [
    "Regression is a method of modelling a target value based on independent predictors. This method is mostly used for forecasting and finding out **cause and effect relationship between variables**. Regression techniques mostly differ based on the number of independent variables and the type of relationship between the independent and dependent variables. Regression problems usually have one continuous and unbounded dependent variable. The inputs, however, can be continuous, discrete, or even categorical data such as gender, nationality, brand, and so on.\n",
    "\n",
    "<img src=\"2_images/2_Regression.SVG\" width=500px/>\n",
    "\n",
    "Linear regression with multiple variables is also known as \"**multivariate linear regression**\". The multivariable form of the hypothesis function accommodating these multiple features is as follows:\n",
    "\n",
    "$$\n",
    "\\begin{align*} \n",
    "&Hypothesis: h_{\\theta}(x) = \\theta_{0} + \\theta_{1}x_{1} + \\theta_{2}x_{2} + \\theta_{3}x_{3} + \\cdot\\cdot\\cdot + \\theta_{n}x_{n} \\\\\n",
    "&Cost Function: J(\\theta) = \\frac{1}{2m}\\sum_{i=1}^{m}(h_{\\theta}(x^{(i)})-y^{(i)})^2 \\\\\n",
    "&Goal: \\min_{\\theta}J(\\theta)\n",
    "\\end{align*}\n",
    "$$\n",
    "\n",
    "Using the definition of matrix multiplication, our multivariable hypothesis function can be concisely represented as:\n",
    "\n",
    "$$ h_{\\theta}(x) = \n",
    "\\begin{bmatrix}\n",
    "\\theta_{0} & \\theta_{1} & \\cdot\\cdot\\cdot & \\theta_{n}\n",
    "\\end{bmatrix}\n",
    "\\begin{bmatrix}\n",
    "x_{0} \\\\\n",
    "x_{1} \\\\\n",
    "\\cdot\\cdot\\cdot \\\\\n",
    "x_{n}\n",
    "\\end{bmatrix}\n",
    "= \\theta^{T}x\n",
    "$$"
   ]
  },
  {
   "cell_type": "markdown",
   "metadata": {},
   "source": [
    "### Gradient Descent for Linear Regression\n",
    "\n",
    "Gradient descent is a generic optimization algorithm used in many machine learning algorithms. It iteratively tweaks the parameters of the model in order to minimize the cost function. We do this is by taking the **derivative** (the tangential line to a function) of our cost function. The slope of the tangent is the derivative at that point and it will give us a direction to move towards. We make steps down the cost function in the direction with the steepest descent. The size of each step is determined by the parameter **$\\alpha$**, which is called the **learning rate**. The **gradient descent algorithm** can be represented as:\n",
    "\n",
    "$$\\begin{align*}  \n",
    "&repect\\ until \\ convergence\\{ \\\\\n",
    "&\\ \\ \\ \\ \\theta_{j} :=\\theta_{j} - \\alpha\\frac{1}{m}\\sum_{i=1}^{m}(h_{\\theta}(x^{(i)})-y^{(i)})x_{j}^{(i)}) \\ \\ \\ \\ for \\ j := 0 \\cdot\\cdot\\cdot n \\\\\n",
    "&\\} \\\\\n",
    "\\end{align*}\n",
    "$$"
   ]
  },
  {
   "cell_type": "markdown",
   "metadata": {},
   "source": [
    "$$\n",
    "\\begin{bmatrix}\n",
    "\\theta_{0} \\\\\n",
    "\\theta_{1} \\\\\n",
    "\\cdot\\cdot\\cdot \\\\\n",
    "\\theta_{n}\n",
    "\\end{bmatrix}\n",
    "= \n",
    "\\begin{bmatrix}\n",
    "\\theta_{0} \\\\\n",
    "\\theta_{1} \\\\\n",
    "\\cdot\\cdot\\cdot \\\\\n",
    "\\theta_{n}\n",
    "\\end{bmatrix} \n",
    "-\n",
    "\\alpha\n",
    "\\begin{bmatrix}\n",
    "\\frac{\\partial J(\\theta)}{\\partial \\theta_{0}} \\\\\n",
    "\\frac{\\partial J(\\theta)}{\\partial \\theta_{1}} \\\\\n",
    "\\cdot\\cdot\\cdot \\\\\n",
    "\\frac{\\partial J(\\theta)}{\\partial \\theta_{n}}\n",
    "\\end{bmatrix}\n",
    "$$\n",
    "\n",
    "To demonstrate the gradient descent algorithm, we initialize the model parameters with 0. The equation becomes $h_{\\theta}(x) = 0$. Gradient descent algorithm now tries to update the value of the parameters so that we arrive at the best fit line.\n",
    "\n",
    "We should adjust our parameter $\\alpha$ to ensure that the gradient descent algorithm converges in a reasonable time. **If $\\alpha$ is too small**, gradient descent can be slow. **If $\\alpha$ is too large**, gradient descent can overshoot the minimum. It may fail to converge, or even diverge. Failure to converge or too much time to obtain the minimum value imply that our step size is wrong.\n",
    "\n",
    "<img src=\"2_images/2_Gradient_Descent.PNG\" width=500px/>"
   ]
  },
  {
   "cell_type": "markdown",
   "metadata": {},
   "source": [
    "We can **speed up gradient descent** by having each of our input values in roughly the same range. This is because $\\theta$ will descend quickly on small ranges and slowly on large ranges, and so will oscillate inefficiently down to the optimum when the variables are very uneven.\n",
    "\n",
    "Two techniques to help with this are feature scaling and mean normalization. **Feature scaling** involves dividing the input values by the range (i.e. the maximum value minus the minimum value) of the input variable, resulting in a new range of just 1. **Mean normalization** involves subtracting the average value for an input variable from the values for that input variable resulting in a new average value for the input variable of just zero. To implement both of these techniques, adjust your input values as shown in this formula:\n",
    "\n",
    "$$ x_{i} := \\frac{(x_{i}-\\mu_{i})}{s_{i}} $$\n",
    "\n",
    "Where $\\mu_{i}$ is the average of all the values for feature (i) and $s_{i}$ is the range of values (max - min), or $s_{i}$ is the standard deviation. Note that dividing by the range, or dividing by the standard deviation, give different results."
   ]
  },
  {
   "cell_type": "markdown",
   "metadata": {},
   "source": [
    "### Normal Equation for Linear Regression\n",
    "\n",
    "Gradient descent gives one way of minimizing J. In the \"**Normal Equation**\" method, we will minimize J by explicitly taking its derivatives with respect to the $\\theta_{j}$ ’s, and setting them to zero. This allows us to find the optimum theta without iteration. The normal equation formula is given below: \n",
    "\n",
    " \n",
    "$$ \\theta = (X^{T}X)^{-1}X^{T}y $$\n",
    "\n",
    "The following is a comparison of gradient descent and the normal equation:"
   ]
  },
  {
   "cell_type": "markdown",
   "metadata": {},
   "source": [
    "| Gradient Descent      | Normal Equation |\n",
    "| :-------------------------------------------- | :-------------------------------------------- |\n",
    "| Need to choose alpha            | No need to choose alpha       |\n",
    "| Needs many iterations   | No need to iterate        |\n",
    "| $O(kn^{2})$      | $O(n^{3})$, need to calculate inverse of $X^{T}X$       |\n",
    "| Works well when n is large     | Slow if n is very large       |"
   ]
  },
  {
   "cell_type": "markdown",
   "metadata": {},
   "source": [
    "With the normal equation, computing the inversion has complexity $O(n^{3})$. So if we have a very large number of features, the normal equation will be **slow**. In practice, when n exceeds 10,000 it might be a good time to go from a normal solution to an iterative process.\n",
    "\n",
    "If $X^{T}X$ is **noninvertible**, the common causes might be having :\n",
    "* Redundant features, where two features are very closely related (i.e. they are linearly dependent)\n",
    "* Too many features (e.g. m ≤ n). In this case, delete some features or use \"regularization\".\n",
    "\n",
    "Solutions to the above problems include deleting a feature that is linearly dependent with another or deleting one or more features when there are too many features."
   ]
  },
  {
   "cell_type": "markdown",
   "metadata": {},
   "source": [
    "### Evaluating the performance of the Linear Regression Model\n",
    "\n",
    "We will be using **Root mean squared error(RMSE)** and **Coefficient of Determination(R² score)** to evaluate our model. RMSE is the square root of the average of the sum of the squares of residuals. RMSE is defined by:\n",
    "\n",
    "$$ RMSE = \\sqrt{\\frac{1}{m}\\sum_{i=1}^{m}(h(x^{(i)})-y^{(i)})^2}$$"
   ]
  },
  {
   "cell_type": "markdown",
   "metadata": {},
   "source": [
    "R² score or the coefficient of determination explains how much the total variance of the dependent variable can be reduced by using the least square regression. It can be defined by:\n",
    "\n",
    "$$ R^{2} = 1- \\frac{SS_{r}}{SS{t}} $$"
   ]
  },
  {
   "cell_type": "markdown",
   "metadata": {},
   "source": [
    "Where $SS_{t}$ is the total sum of errors if we take the mean of the observed values as the predicted value and $SS_{r}$ is the sum of the square of residuals.\n",
    "\n",
    "$$ SS_{t} = \\sum_{i=1}^{m}(y^{(i)}-\\bar{y})^2 \\\\\n",
    "SS_{r} = \\sum_{i=1}^{m}(h(x^{(i)})-y^{(i)})^2\n",
    "$$"
   ]
  },
  {
   "cell_type": "markdown",
   "metadata": {},
   "source": [
    "### Dataset Initialization "
   ]
  },
  {
   "cell_type": "code",
   "execution_count": 23,
   "metadata": {},
   "outputs": [],
   "source": [
    "import numpy as np\n",
    "import matplotlib.pyplot as plt"
   ]
  },
  {
   "cell_type": "code",
   "execution_count": 24,
   "metadata": {},
   "outputs": [
    {
     "data": {
      "image/png": "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\n",
      "text/plain": [
       "<Figure size 432x288 with 1 Axes>"
      ]
     },
     "metadata": {
      "needs_background": "light"
     },
     "output_type": "display_data"
    }
   ],
   "source": [
    "# generate random data-set\n",
    "np.random.seed(0)\n",
    "x = np.random.rand(100, 1)\n",
    "y = 2 + 3 * x + np.random.rand(100, 1)\n",
    "\n",
    "# plot\n",
    "plt.scatter(x,y,s=10)\n",
    "plt.title('Linear Regression Random Data')\n",
    "plt.xlabel('x')\n",
    "plt.ylabel('y')\n",
    "plt.show()"
   ]
  },
  {
   "cell_type": "code",
   "execution_count": 52,
   "metadata": {},
   "outputs": [],
   "source": [
    "class LinearRegressionUsingGD:\n",
    "    def __init__(self, learning_rate=0.05, n_iterations=1000):\n",
    "        \n",
    "        self.learning_rate = learning_rate\n",
    "        self.n_iterations = n_iterations\n",
    "        self.m = x.shape[0]\n",
    "\n",
    "    def fit(self, x, y):\n",
    "        \n",
    "        self.cost = []\n",
    "        self.theta = np.zeros((x.shape[1], 1))\n",
    "\n",
    "        for i in range(self.n_iterations):\n",
    "            y_pred = np.dot(x, self.theta)\n",
    "            residuals = y_pred - y\n",
    "            gradient_vector = np.dot(x.T, residuals)\n",
    "            self.theta -= (self.learning_rate / self.m) * gradient_vector\n",
    "            cost = np.sum((residuals ** 2)) / (2 * self.m)\n",
    "            self.cost.append(cost)\n",
    "            \n",
    "        return self\n",
    "\n",
    "    def predict(self, x):\n",
    "        \n",
    "        return np.dot(x, self.theta)"
   ]
  },
  {
   "cell_type": "code",
   "execution_count": 58,
   "metadata": {},
   "outputs": [
    {
     "data": {
      "image/png": "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\n",
      "text/plain": [
       "<Figure size 432x288 with 1 Axes>"
      ]
     },
     "metadata": {
      "needs_background": "light"
     },
     "output_type": "display_data"
    }
   ],
   "source": [
    "# Model initialization\n",
    "Linear_Regression_GD = LinearRegressionUsingGD()\n",
    "# Fit the data(train the model)\n",
    "Linear_Regression_GD.fit(x, y)\n",
    "# Predict\n",
    "y_pred = Linear_Regression_GD.predict(x)\n",
    "\n",
    "# plotting cost function vs the number of iterations\n",
    "\n",
    "plt.xlabel('number of iterations')\n",
    "plt.ylabel('cost function')\n",
    "\n",
    "plt.plot(range(0, Linear_Regression_GD.n_iterations), Linear_Regression_GD.fit(x, y).cost, color='b')\n",
    "plt.show()"
   ]
  },
  {
   "cell_type": "markdown",
   "metadata": {},
   "source": [
    "### Implementing Linear Regression from Scikit-learn"
   ]
  },
  {
   "cell_type": "code",
   "execution_count": 13,
   "metadata": {},
   "outputs": [],
   "source": [
    "from sklearn.linear_model import LinearRegression\n",
    "from sklearn.metrics import mean_squared_error, r2_score"
   ]
  },
  {
   "cell_type": "code",
   "execution_count": 14,
   "metadata": {},
   "outputs": [
    {
     "name": "stdout",
     "output_type": "stream",
     "text": [
      "Slope: [[2.93655106]]\n",
      "Intercept: [2.55808002]\n",
      "Root mean squared error:  0.07623324582875007\n",
      "R2 score:  0.9038655568672764\n"
     ]
    },
    {
     "data": {
      "image/png": "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\n",
      "text/plain": [
       "<Figure size 432x288 with 1 Axes>"
      ]
     },
     "metadata": {
      "needs_background": "light"
     },
     "output_type": "display_data"
    }
   ],
   "source": [
    "# sckit-learn implementation\n",
    "\n",
    "# Model initialization\n",
    "regression_model = LinearRegression()\n",
    "# Fit the data(train the model)\n",
    "regression_model.fit(x, y)\n",
    "# Predict\n",
    "y_predicted = regression_model.predict(x)\n",
    "\n",
    "# model evaluation\n",
    "rmse = mean_squared_error(y, y_predicted)\n",
    "r2 = r2_score(y, y_predicted)\n",
    "\n",
    "# printing values\n",
    "print('Slope:' ,regression_model.coef_)\n",
    "print('Intercept:', regression_model.intercept_)\n",
    "print('Root mean squared error: ', rmse)\n",
    "print('R2 score: ', r2)\n",
    "\n",
    "# plotting values\n",
    "\n",
    "# data points\n",
    "plt.scatter(x, y, s=10)\n",
    "plt.xlabel('x')\n",
    "plt.ylabel('y')\n",
    "\n",
    "# predicted values\n",
    "plt.plot(x, y_predicted, color='r')\n",
    "plt.show()"
   ]
  },
  {
   "cell_type": "markdown",
   "metadata": {},
   "source": [
    "### References:"
   ]
  },
  {
   "cell_type": "markdown",
   "metadata": {},
   "source": [
    "[1] \\ \\ \\ \\ Agarwal, A. (2018, November 14). Linear Regression using Python. Medium. https://towardsdatascience.com/linear-regression-using-python-b136c91bf0a2.
    "[2] \\ \\ \\ \\ Ng, A. (n.d.). Machine Learning. Coursera. https://www.coursera.org/learn/machine-learning. "
   ]
  }
 ],
 "metadata": {
  "kernelspec": {
   "display_name": "Python 3",
   "language": "python",
   "name": "python3"
  },
  "language_info": {
   "codemirror_mode": {
    "name": "ipython",
    "version": 3
   },
   "file_extension": ".py",
   "mimetype": "text/x-python",
   "name": "python",
   "nbconvert_exporter": "python",
   "pygments_lexer": "ipython3",
   "version": "3.7.3"
  }
 },
 "nbformat": 4,
 "nbformat_minor": 2
}
