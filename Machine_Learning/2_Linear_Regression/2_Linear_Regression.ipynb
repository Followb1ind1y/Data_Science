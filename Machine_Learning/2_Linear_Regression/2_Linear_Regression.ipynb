{
 "cells": [
  {
   "cell_type": "markdown",
   "metadata": {},
   "source": [
    "# <div align=\"right\">Machine Learning\n",
    "##### <div align=\"right\"> *Followblindly*"
   ]
  },
  {
   "cell_type": "markdown",
   "metadata": {},
   "source": [
    "# 2 - Linear Regression"
   ]
  },
  {
   "cell_type": "markdown",
   "metadata": {},
   "source": [
    "Regression is a method of modelling a target value based on independent predictors. This method is mostly used for forecasting and finding out **cause and effect relationship between variables**. Regression techniques mostly differ based on the number of independent variables and the type of relationship between the independent and dependent variables. Regression problems usually have one continuous and unbounded dependent variable. The inputs, however, can be continuous, discrete, or even categorical data such as gender, nationality, brand, and so on.\n",
    "\n",
    "<img src=\"2_images/2_Regression.SVG\" width=500px/>\n",
    "\n",
    "Linear regression with multiple variables is also known as \"**multivariate linear regression**\". The multivariable form of the hypothesis function accommodating these multiple features is as follows:\n",
    "\n",
    "$$\n",
    "\\begin{align*} \n",
    "&Hypothesis: h_{\\theta}(x) = \\theta_{0} + \\theta_{1}x_{1} + \\theta_{2}x_{2} + \\theta_{3}x_{3} + \\cdot\\cdot\\cdot + \\theta_{n}x_{n} \\\\\n",
    "&Cost Function: J(\\theta) = \\frac{1}{2m}\\sum_{i=1}^{m}(h_{\\theta}(x^{(i)})-y^{(i)})^2 \\\\\n",
    "&Goal: \\min_{\\theta}J(\\theta)\n",
    "\\end{align*}\n",
    "$$\n",
    "\n",
    "Using the definition of matrix multiplication, our multivariable hypothesis function can be concisely represented as:\n",
    "\n",
    "$$ h_{\\theta}(x) = \n",
    "\\begin{bmatrix}\n",
    "\\theta_{0} & \\theta_{1} & \\cdot\\cdot\\cdot & \\theta_{n}\n",
    "\\end{bmatrix}\n",
    "\\begin{bmatrix}\n",
    "x_{0} \\\\\n",
    "x_{1} \\\\\n",
    "\\cdot\\cdot\\cdot \\\\\n",
    "x_{n}\n",
    "\\end{bmatrix}\n",
    "= \\theta^{T}x\n",
    "$$"
   ]
  },
  {
   "cell_type": "markdown",
   "metadata": {},
   "source": [
    "### Gradient Descent for Linear Regression\n",
    "\n",
    "Gradient descent is a generic optimization algorithm used in many machine learning algorithms. It iteratively tweaks the parameters of the model in order to minimize the cost function. We do this is by taking the **derivative** (the tangential line to a function) of our cost function. The slope of the tangent is the derivative at that point and it will give us a direction to move towards. We make steps down the cost function in the direction with the steepest descent. The size of each step is determined by the parameter **$\\alpha$**, which is called the **learning rate**. The **gradient descent algorithm** can be represented as:\n",
    "\n",
    "$$\\begin{align*}  \n",
    "&repect\\ until \\ convergence\\{ \\\\\n",
    "&\\ \\ \\ \\ \\theta_{j} :=\\theta_{j} - \\alpha\\frac{1}{m}\\sum_{i=1}^{m}(h_{\\theta}(x^{(i)})-y^{(i)})x_{j}^{(i)}) \\ \\ \\ \\ for \\ j := 0 \\cdot\\cdot\\cdot n \\\\\n",
    "&\\} \\\\\n",
    "\\end{align*}\n",
    "$$"
   ]
  },
  {
   "cell_type": "markdown",
   "metadata": {},
   "source": [
    "$$\n",
    "\\begin{bmatrix}\n",
    "\\theta_{0} \\\\\n",
    "\\theta_{1} \\\\\n",
    "\\cdot\\cdot\\cdot \\\\\n",
    "\\theta_{n}\n",
    "\\end{bmatrix}\n",
    "= \n",
    "\\begin{bmatrix}\n",
    "\\theta_{0} \\\\\n",
    "\\theta_{1} \\\\\n",
    "\\cdot\\cdot\\cdot \\\\\n",
    "\\theta_{n}\n",
    "\\end{bmatrix} \n",
    "-\n",
    "\\alpha\n",
    "\\begin{bmatrix}\n",
    "\\frac{\\partial J(\\theta)}{\\partial \\theta_{0}} \\\\\n",
    "\\frac{\\partial J(\\theta)}{\\partial \\theta_{1}} \\\\\n",
    "\\cdot\\cdot\\cdot \\\\\n",
    "\\frac{\\partial J(\\theta)}{\\partial \\theta_{n}}\n",
    "\\end{bmatrix}\n",
    "$$\n",
    "\n",
    "To demonstrate the gradient descent algorithm, we initialize the model parameters with 0. The equation becomes $h_{\\theta}(x) = 0$. Gradient descent algorithm now tries to update the value of the parameters so that we arrive at the best fit line.\n",
    "\n",
    "We should adjust our parameter $\\alpha$ to ensure that the gradient descent algorithm converges in a reasonable time. **If $\\alpha$ is too small**, gradient descent can be slow. **If $\\alpha$ is too large**, gradient descent can overshoot the minimum. It may fail to converge, or even diverge. Failure to converge or too much time to obtain the minimum value imply that our step size is wrong.\n",
    "\n",
    "<img src=\"2_images/2_Gradient_Descent.PNG\" width=500px/>"
   ]
  },
  {
   "cell_type": "markdown",
   "metadata": {},
   "source": [
    "We can **speed up gradient descent** by having each of our input values in roughly the same range. This is because $\\theta$ will descend quickly on small ranges and slowly on large ranges, and so will oscillate inefficiently down to the optimum when the variables are very uneven.\n",
    "\n",
    "Two techniques to help with this are feature scaling and mean normalization. **Feature scaling** involves dividing the input values by the range (i.e. the maximum value minus the minimum value) of the input variable, resulting in a new range of just 1. **Mean normalization** involves subtracting the average value for an input variable from the values for that input variable resulting in a new average value for the input variable of just zero. To implement both of these techniques, adjust your input values as shown in this formula:\n",
    "\n",
    "$$ x_{i} := \\frac{(x_{i}-\\mu_{i})}{s_{i}} $$\n",
    "\n",
    "Where $\\mu_{i}$ is the average of all the values for feature (i) and $s_{i}$ is the range of values (max - min), or $s_{i}$ is the standard deviation. Note that dividing by the range, or dividing by the standard deviation, give different results."
   ]
  },
  {
   "cell_type": "markdown",
   "metadata": {},
   "source": [
    "### Normal Equation for Linear Regression\n",
    "\n",
    "Gradient descent gives one way of minimizing J. In the \"**Normal Equation**\" method, we will minimize J by explicitly taking its derivatives with respect to the $\\theta_{j}$ ’s, and setting them to zero. This allows us to find the optimum theta without iteration. The normal equation formula is given below: \n",
    "\n",
    " \n",
    "$$ \\theta = (X^{T}X)^{-1}X^{T}y $$\n",
    "\n",
    "The following is a comparison of gradient descent and the normal equation:"
   ]
  },
  {
   "cell_type": "markdown",
   "metadata": {},
   "source": [
    "| Gradient Descent      | Normal Equation |\n",
    "| :-------------------------------------------- | :-------------------------------------------- |\n",
    "| Need to choose alpha            | No need to choose alpha       |\n",
    "| Needs many iterations   | No need to iterate        |\n",
    "| $O(kn^{2})$      | $O(n^{3})$, need to calculate inverse of $X^{T}X$       |\n",
    "| Works well when n is large     | Slow if n is very large       |"
   ]
  },
  {
   "cell_type": "markdown",
   "metadata": {},
   "source": [
    "With the normal equation, computing the inversion has complexity $O(n^{3})$. So if we have a very large number of features, the normal equation will be **slow**. In practice, when n exceeds 10,000 it might be a good time to go from a normal solution to an iterative process.\n",
    "\n",
    "If $X^{T}X$ is **noninvertible**, the common causes might be having :\n",
    "* Redundant features, where two features are very closely related (i.e. they are linearly dependent)\n",
    "* Too many features (e.g. m ≤ n). In this case, delete some features or use \"regularization\".\n",
    "\n",
    "Solutions to the above problems include deleting a feature that is linearly dependent with another or deleting one or more features when there are too many features."
   ]
  },
  {
   "cell_type": "markdown",
   "metadata": {},
   "source": [
    "### Evaluating the performance of the Linear Regression Model\n",
    "\n",
    "We will be using **Root mean squared error(RMSE)** and **Coefficient of Determination(R² score)** to evaluate our model. RMSE is the square root of the average of the sum of the squares of residuals. RMSE is defined by:\n",
    "\n",
    "$$ RMSE = \\sqrt{\\frac{1}{m}\\sum_{i=1}^{m}(h(x^{(i)})-y^{(i)})^2}$$"
   ]
  },
  {
   "cell_type": "markdown",
   "metadata": {},
   "source": [
    "R² score or the coefficient of determination explains how much the total variance of the dependent variable can be reduced by using the least square regression. It can be defined by:\n",
    "\n",
    "$$ R^{2} = 1- \\frac{SS_{r}}{SS{t}} $$"
   ]
  },
  {
   "cell_type": "markdown",
   "metadata": {},
   "source": [
    "Where $SS_{t}$ is the total sum of errors if we take the mean of the observed values as the predicted value and $SS_{r}$ is the sum of the square of residuals.\n",
    "\n",
    "$$ SS_{t} = \\sum_{i=1}^{m}(y^{(i)}-\\bar{y})^2 \\\\\n",
    "SS_{r} = \\sum_{i=1}^{m}(h(x^{(i)})-y^{(i)})^2\n",
    "$$"
   ]
  },
  {
   "cell_type": "markdown",
   "metadata": {},
   "source": [
    "### Dataset Initialization "
   ]
  },
  {
   "cell_type": "code",
   "execution_count": 2,
   "metadata": {},
   "outputs": [],
   "source": [
    "import numpy as np\n",
    "import matplotlib.pyplot as plt"
   ]
  },
  {
   "cell_type": "code",
   "execution_count": 3,
   "metadata": {},
   "outputs": [
    {
     "data": {
      "image/png": "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\n",
      "text/plain": [
       "<Figure size 432x288 with 1 Axes>"
      ]
     },
     "metadata": {
      "needs_background": "light"
     },
     "output_type": "display_data"
    }
   ],
   "source": [
    "# generate random data-set\n",
    "np.random.seed(0)\n",
    "x = np.random.rand(100, 1)\n",
    "y = 2 + 3 * x + np.random.rand(100, 1)\n",
    "\n",
    "# plot\n",
    "plt.scatter(x,y,s=10)\n",
    "plt.title('Linear Regression Random Data')\n",
    "plt.xlabel('x')\n",
    "plt.ylabel('y')\n",
    "plt.show()"
   ]
  },
  {
   "cell_type": "markdown",
   "metadata": {},
   "source": [
    "### Implementing Linear Regression from scratch"
   ]
  },
  {
   "cell_type": "code",
   "execution_count": 4,
   "metadata": {},
   "outputs": [],
   "source": [
    "class LinearRegressionUsingGD:\n",
    "    def __init__(self, learning_rate=0.05, n_iterations=1000):\n",
    "        self.learning_rate = learning_rate\n",
    "        self.n_iterations = n_iterations\n",
    "        self.m = x.shape[0]\n",
    "\n",
    "    def fit(self, x, y):\n",
    "        self.cost = []\n",
    "        self.theta = np.zeros((x.shape[1], 1))\n",
    "\n",
    "        for i in range(self.n_iterations):\n",
    "            y_pred = np.dot(x, self.theta)\n",
    "            residuals = y_pred - y\n",
    "            gradient_vector = np.dot(x.T, residuals)\n",
    "            self.theta -= (self.learning_rate / self.m) * gradient_vector\n",
    "            cost = np.sum((residuals ** 2)) / (2 * self.m)\n",
    "            self.cost.append(cost)   \n",
    "        return self\n",
    "\n",
    "    def predict(self, x):\n",
    "        return np.dot(x, self.theta)"
   ]
  },
  {
   "cell_type": "code",
   "execution_count": 5,
   "metadata": {},
   "outputs": [
    {
     "data": {
      "image/png": "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\n",
      "text/plain": [
       "<Figure size 432x288 with 1 Axes>"
      ]
     },
     "metadata": {
      "needs_background": "light"
     },
     "output_type": "display_data"
    }
   ],
   "source": [
    "# Model initialization\n",
    "Linear_Regression_GD = LinearRegressionUsingGD()\n",
    "# Fit the data(train the model)\n",
    "Linear_Regression_GD.fit(x, y)\n",
    "# Predict\n",
    "y_pred = Linear_Regression_GD.predict(x)\n",
    "\n",
    "# plotting cost function vs the number of iterations\n",
    "\n",
    "plt.title('Cost function vs the number of iterations')\n",
    "plt.xlabel('number of iterations')\n",
    "plt.ylabel('cost function')\n",
    "\n",
    "plt.plot(range(0, Linear_Regression_GD.n_iterations), Linear_Regression_GD.fit(x, y).cost, color='b')\n",
    "plt.show()"
   ]
  },
  {
   "cell_type": "markdown",
   "metadata": {},
   "source": [
    "### Implementing Linear Regression from Scikit-learn"
   ]
  },
  {
   "cell_type": "code",
   "execution_count": 6,
   "metadata": {},
   "outputs": [],
   "source": [
    "from sklearn.linear_model import LinearRegression\n",
    "from sklearn.metrics import mean_squared_error, r2_score"
   ]
  },
  {
   "cell_type": "code",
   "execution_count": 7,
   "metadata": {},
   "outputs": [
    {
     "name": "stdout",
     "output_type": "stream",
     "text": [
      "Slope: [[2.93655106]]\n",
      "Intercept: [2.55808002]\n",
      "Root mean squared error:  0.07623324582875007\n",
      "R2 score:  0.9038655568672764\n"
     ]
    },
    {
     "data": {
      "image/png": "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\n",
      "text/plain": [
       "<Figure size 432x288 with 1 Axes>"
      ]
     },
     "metadata": {
      "needs_background": "light"
     },
     "output_type": "display_data"
    }
   ],
   "source": [
    "# sckit-learn implementation\n",
    "\n",
    "# Model initialization\n",
    "regression_model = LinearRegression()\n",
    "# Fit the data(train the model)\n",
    "regression_model.fit(x, y)\n",
    "# Predict\n",
    "y_predicted = regression_model.predict(x)\n",
    "\n",
    "# model evaluation\n",
    "rmse = mean_squared_error(y, y_predicted)\n",
    "r2 = r2_score(y, y_predicted)\n",
    "\n",
    "# printing values\n",
    "print('Slope:' ,regression_model.coef_)\n",
    "print('Intercept:', regression_model.intercept_)\n",
    "print('Root mean squared error: ', rmse)\n",
    "print('R2 score: ', r2)\n",
    "\n",
    "# plotting values\n",
    "\n",
    "# data points\n",
    "plt.scatter(x, y, s=10)\n",
    "plt.xlabel('x')\n",
    "plt.ylabel('y')\n",
    "\n",
    "# predicted values\n",
    "plt.plot(x, y_predicted, color='r')\n",
    "plt.show()"
   ]
  },
  {
   "cell_type": "markdown",
   "metadata": {},
   "source": [
    "### References:"
   ]
  },
  {
   "cell_type": "markdown",
   "metadata": {},
   "source": [
    "$[1] Agarwal, A. (2018, November 14). Linear Regression using Python. Medium. https://towardsdatascience.com/linear-regression-using-python-b136c91bf0a2. \n

    "[2] Ng, A. (n.d.). Machine Learning. Coursera. https://www.coursera.org/learn/machine-learning. $"
   ]
  }
 ],
 "metadata": {
  "kernelspec": {
   "display_name": "Python 3",
   "language": "python",
   "name": "python3"
  },
  "language_info": {
   "codemirror_mode": {
    "name": "ipython",
    "version": 3
   },
   "file_extension": ".py",
   "mimetype": "text/x-python",
   "name": "python",
   "nbconvert_exporter": "python",
   "pygments_lexer": "ipython3",
   "version": "3.7.3"
  }
 },
 "nbformat": 4,
 "nbformat_minor": 2
}
